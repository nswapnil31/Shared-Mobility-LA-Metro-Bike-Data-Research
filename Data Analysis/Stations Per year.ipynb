{
 "cells": [
  {
   "cell_type": "code",
   "execution_count": 1,
   "metadata": {},
   "outputs": [],
   "source": [
    "# Import Libraries\n",
    "\n",
    "import pandas as pd\n",
    "import os\n",
    "import numpy as np\n",
    "import datetime\n",
    "import matplotlib.pyplot as plt\n",
    "import seaborn as sns\n",
    "import mpu\n",
    "\n",
    "%matplotlib inline"
   ]
  },
  {
   "cell_type": "code",
   "execution_count": 58,
   "metadata": {},
   "outputs": [
    {
     "data": {
      "text/plain": [
       "234"
      ]
     },
     "execution_count": 58,
     "metadata": {},
     "output_type": "execute_result"
    }
   ],
   "source": [
    "All_2019_data=pd.read_csv('D:\\\\GA Work_Essia\\\\Data\\\\Yearly data\\\\2019\\\\All_2019_data.csv')\n",
    "All_2019_data = All_2019_data.drop_duplicates(['start_station'], keep='first')\n",
    "Station_2019=All_2019_data[['start_station']]\n",
    "Station_2019['start_station'].nunique()"
   ]
  },
  {
   "cell_type": "code",
   "execution_count": 59,
   "metadata": {},
   "outputs": [
    {
     "data": {
      "text/plain": [
       "132"
      ]
     },
     "execution_count": 59,
     "metadata": {},
     "output_type": "execute_result"
    }
   ],
   "source": [
    "All_2018_data=pd.read_csv('D:\\\\GA Work_Essia\\\\Data\\\\Yearly data\\\\2018\\\\All_2018_data.csv')\n",
    "All_2018_data = All_2018_data.drop_duplicates(['start_station'], keep='first')\n",
    "Station_2018=All_2018_data[['start_station']]\n",
    "Station_2018['start_station'].nunique()"
   ]
  },
  {
   "cell_type": "code",
   "execution_count": 60,
   "metadata": {},
   "outputs": [
    {
     "data": {
      "text/plain": [
       "133"
      ]
     },
     "execution_count": 60,
     "metadata": {},
     "output_type": "execute_result"
    }
   ],
   "source": [
    "All_2017_data=pd.read_csv('D:\\\\GA Work_Essia\\\\Data\\\\Yearly data\\\\2017\\\\All_2017_data.csv')\n",
    "All_2017_data = All_2017_data.drop_duplicates(['start_station'], keep='first')\n",
    "Station_2017=All_2017_data[['start_station']]\n",
    "Station_2017['start_station'].nunique()"
   ]
  },
  {
   "cell_type": "code",
   "execution_count": 61,
   "metadata": {},
   "outputs": [
    {
     "data": {
      "text/plain": [
       "63"
      ]
     },
     "execution_count": 61,
     "metadata": {},
     "output_type": "execute_result"
    }
   ],
   "source": [
    "All_2016_data=pd.read_csv('D:\\\\GA Work_Essia\\\\Data\\\\Yearly data\\\\2016\\\\All_2016_data.csv')\n",
    "All_2016_data = All_2016_data.drop_duplicates(['start_station'], keep='first')\n",
    "Station_2016=All_2016_data[['start_station']]\n",
    "Station_2016['start_station'].nunique()"
   ]
  },
  {
   "cell_type": "code",
   "execution_count": 67,
   "metadata": {},
   "outputs": [
    {
     "data": {
      "text/plain": [
       "right_only    71\n",
       "both          62\n",
       "left_only      2\n",
       "Name: _merge, dtype: int64"
      ]
     },
     "execution_count": 67,
     "metadata": {},
     "output_type": "execute_result"
    }
   ],
   "source": [
    "comparison_df = Station_2016.merge(Station_2017,\n",
    "                              indicator=True,\n",
    "                              how='outer')\n",
    "comparison_df['_merge'].value_counts()"
   ]
  },
  {
   "cell_type": "markdown",
   "metadata": {},
   "source": [
    "**Total Stations In 2016=63**\n",
    "\n",
    "**Total Stations In 2017=133**\n",
    "\n",
    "**Old 2016 Stations in 2017=62**\n",
    "\n",
    "**New Stations in 2017=71**\n",
    "\n",
    "**Shut down station in 2016=2**"
   ]
  },
  {
   "cell_type": "code",
   "execution_count": 69,
   "metadata": {},
   "outputs": [
    {
     "data": {
      "text/plain": [
       "both          132\n",
       "left_only       1\n",
       "right_only      0\n",
       "Name: _merge, dtype: int64"
      ]
     },
     "execution_count": 69,
     "metadata": {},
     "output_type": "execute_result"
    }
   ],
   "source": [
    "comparison_df = Station_2017.merge(Station_2018,\n",
    "                              indicator=True,\n",
    "                              how='outer')\n",
    "comparison_df['_merge'].value_counts()"
   ]
  },
  {
   "cell_type": "markdown",
   "metadata": {},
   "source": [
    "**Total Stations In 2017=133**\n",
    "\n",
    "**Total Stations In 2018=132**\n",
    "\n",
    "**Old 2017 Stations in 2018=132**\n",
    "\n",
    "**New Stations in 2018=0**\n",
    "\n",
    "**Shut down station in 2016=1**"
   ]
  },
  {
   "cell_type": "code",
   "execution_count": 68,
   "metadata": {},
   "outputs": [
    {
     "data": {
      "text/plain": [
       "right_only    71\n",
       "both          61\n",
       "left_only      3\n",
       "Name: _merge, dtype: int64"
      ]
     },
     "execution_count": 68,
     "metadata": {},
     "output_type": "execute_result"
    }
   ],
   "source": [
    "comparison_df = Station_2016.merge(Station_2018,\n",
    "                              indicator=True,\n",
    "                              how='outer')\n",
    "comparison_df['_merge'].value_counts()"
   ]
  },
  {
   "cell_type": "code",
   "execution_count": 70,
   "metadata": {},
   "outputs": [
    {
     "data": {
      "text/plain": [
       "right_only    137\n",
       "both           97\n",
       "left_only      35\n",
       "Name: _merge, dtype: int64"
      ]
     },
     "execution_count": 70,
     "metadata": {},
     "output_type": "execute_result"
    }
   ],
   "source": [
    "comparison_df = Station_2018.merge(Station_2019,\n",
    "                              indicator=True,\n",
    "                              how='outer')\n",
    "comparison_df['_merge'].value_counts()"
   ]
  },
  {
   "cell_type": "markdown",
   "metadata": {},
   "source": [
    "**Total Stations In 2018=132**\n",
    "\n",
    "**Total Stations In 2019=234**\n",
    "\n",
    "**Old 2018 Stations in 2019=97**\n",
    "\n",
    "**New Stations in 2018=137**\n",
    "\n",
    "**Shut down station in 2016=35**"
   ]
  },
  {
   "cell_type": "code",
   "execution_count": null,
   "metadata": {},
   "outputs": [],
   "source": []
  }
 ],
 "metadata": {
  "kernelspec": {
   "display_name": "Python 3",
   "language": "python",
   "name": "python3"
  },
  "language_info": {
   "codemirror_mode": {
    "name": "ipython",
    "version": 3
   },
   "file_extension": ".py",
   "mimetype": "text/x-python",
   "name": "python",
   "nbconvert_exporter": "python",
   "pygments_lexer": "ipython3",
   "version": "3.7.6"
  }
 },
 "nbformat": 4,
 "nbformat_minor": 2
}
